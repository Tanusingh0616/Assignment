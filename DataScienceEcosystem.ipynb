{
 "cells": [
  {
   "cell_type": "markdown",
   "id": "60bbec1b",
   "metadata": {},
   "source": [
    "# Data Science Tools and Ecosystem"
   ]
  },
  {
   "cell_type": "markdown",
   "id": "a0a4396a",
   "metadata": {},
   "source": [
    "#####  Create a markdown cell for an introduction"
   ]
  },
  {
   "cell_type": "markdown",
   "id": "bd593052",
   "metadata": {},
   "source": [
    "In this notebook, Data Science Tools and Ecosystem are summarized."
   ]
  },
  {
   "cell_type": "markdown",
   "id": "5edf4d11",
   "metadata": {},
   "source": [
    "##### Create a markdown cell to list data science languages"
   ]
  },
  {
   "cell_type": "markdown",
   "id": "2984ccb8",
   "metadata": {},
   "source": [
    "Some of the popular languages that Data Scientists use are:"
   ]
  },
  {
   "cell_type": "code",
   "execution_count": 36,
   "id": "ce919983",
   "metadata": {},
   "outputs": [
    {
     "name": "stdout",
     "output_type": "stream",
     "text": [
      "1. R\n",
      "2. SQL\n",
      "3. JAVA\n",
      "4. Julia\n",
      "5. Scala\n"
     ]
    }
   ],
   "source": [
    "List=[\"R\",\"SQL\",\"JAVA\",\"Julia\",\"Scala\"]\n",
    "Ordered_List=\"\\n\".join([f\"{index + 1}. {item}\" for index, item in enumerate(List)])\n",
    "\n",
    "# Display the ordered list\n",
    "print(Ordered_List)"
   ]
  },
  {
   "cell_type": "markdown",
   "id": "9b03899d",
   "metadata": {},
   "source": [
    "###### Create a markdown cell to list data science libraries"
   ]
  },
  {
   "cell_type": "markdown",
   "id": "6ecb332b",
   "metadata": {},
   "source": [
    "Some of the commonly used libraries used by Data Scientists include:\n",
    "    1. Numpy\n",
    "    2. Seaborn\n",
    "    3. Pandas\n",
    "    4. SciPy\n",
    "    5. Matplotlib"
   ]
  },
  {
   "cell_type": "markdown",
   "id": "8080f1aa",
   "metadata": {},
   "source": [
    "##### Create a markdown cell with a table of Data Science tools"
   ]
  },
  {
   "cell_type": "markdown",
   "id": "a27cc3b1",
   "metadata": {},
   "source": [
    "###### :---:=Center"
   ]
  },
  {
   "cell_type": "markdown",
   "id": "47a1e4bb",
   "metadata": {},
   "source": [
    "|Data Science Tools|\n",
    "|:---:|:---:|:---:|\n",
    "|Jupyter Notebooks|Zeppelin Notebooks|R Studio|   "
   ]
  },
  {
   "cell_type": "markdown",
   "id": "feeb7012",
   "metadata": {},
   "source": [
    "||Data Science Tools||\n",
    "|:---:|:---:|:---:|\n",
    "|Jupyter Notebooks|Zeppelin Notebooks|R Studio|    "
   ]
  },
  {
   "cell_type": "markdown",
   "id": "e3096ecf",
   "metadata": {},
   "source": [
    "##### Create a markdown cell introducing arithmetic expression examples"
   ]
  },
  {
   "cell_type": "markdown",
   "id": "3c18bb49",
   "metadata": {},
   "source": [
    "### Below are a few examples of evaluating arithmetic expressions in Python:"
   ]
  },
  {
   "cell_type": "code",
   "execution_count": 10,
   "id": "dde13e80",
   "metadata": {},
   "outputs": [
    {
     "data": {
      "text/plain": [
       "2"
      ]
     },
     "execution_count": 10,
     "metadata": {},
     "output_type": "execute_result"
    }
   ],
   "source": [
    "4-2"
   ]
  },
  {
   "cell_type": "code",
   "execution_count": 13,
   "id": "b17d08f4",
   "metadata": {},
   "outputs": [
    {
     "data": {
      "text/plain": [
       "369"
      ]
     },
     "execution_count": 13,
     "metadata": {},
     "output_type": "execute_result"
    }
   ],
   "source": [
    "101+268"
   ]
  },
  {
   "cell_type": "code",
   "execution_count": 14,
   "id": "f7b358cf",
   "metadata": {},
   "outputs": [
    {
     "data": {
      "text/plain": [
       "479"
      ]
     },
     "execution_count": 14,
     "metadata": {},
     "output_type": "execute_result"
    }
   ],
   "source": [
    "777-298"
   ]
  },
  {
   "cell_type": "code",
   "execution_count": 15,
   "id": "d9a9624a",
   "metadata": {},
   "outputs": [
    {
     "data": {
      "text/plain": [
       "417315"
      ]
     },
     "execution_count": 15,
     "metadata": {},
     "output_type": "execute_result"
    }
   ],
   "source": [
    "645*647"
   ]
  },
  {
   "cell_type": "code",
   "execution_count": 16,
   "id": "4e9c4f43",
   "metadata": {},
   "outputs": [
    {
     "data": {
      "text/plain": [
       "7554.2"
      ]
     },
     "execution_count": 16,
     "metadata": {},
     "output_type": "execute_result"
    }
   ],
   "source": [
    "37771/5"
   ]
  },
  {
   "cell_type": "markdown",
   "id": "a9b0fc4b",
   "metadata": {},
   "source": [
    "##### Create a code cell to multiply and add numbers"
   ]
  },
  {
   "cell_type": "code",
   "execution_count": 12,
   "id": "8673de1b",
   "metadata": {},
   "outputs": [
    {
     "data": {
      "text/plain": [
       "77"
      ]
     },
     "execution_count": 12,
     "metadata": {},
     "output_type": "execute_result"
    }
   ],
   "source": [
    "(5+6)*7"
   ]
  },
  {
   "cell_type": "markdown",
   "id": "871a7bbf",
   "metadata": {},
   "source": [
    "#####  Create a code cell to convert minutes to hours"
   ]
  },
  {
   "cell_type": "code",
   "execution_count": 31,
   "id": "31af4468",
   "metadata": {},
   "outputs": [
    {
     "name": "stdout",
     "output_type": "stream",
     "text": [
      "200 Minutes is equal to 3.3333333333333335 Hours\n"
     ]
    }
   ],
   "source": [
    "#Given Minutes\n",
    "Minutes=200\n",
    "\n",
    "#Given Hours\n",
    "Hours = minutes/60\n",
    "\n",
    "# Display the result\n",
    "print(f\"{Minutes} Minutes is equal to {Hours} Hours\")"
   ]
  },
  {
   "cell_type": "markdown",
   "id": "62e63304",
   "metadata": {},
   "source": [
    "##### This will convert 200 minutes to hours by diving by 60"
   ]
  },
  {
   "cell_type": "markdown",
   "id": "3516e906",
   "metadata": {},
   "source": [
    "##### Insert a markdown cell to list Objectives"
   ]
  },
  {
   "cell_type": "markdown",
   "id": "1bdbd3ef",
   "metadata": {},
   "source": [
    "## Objectives:"
   ]
  },
  {
   "cell_type": "code",
   "execution_count": 45,
   "id": "e568b773",
   "metadata": {},
   "outputs": [
    {
     "name": "stdout",
     "output_type": "stream",
     "text": [
      "-Learned differnt Languages such as SQL and Python \n",
      "-Knowledge of different libraries\n",
      "-Worked with different kernels and the basic Jupyter architecture\n",
      "-Learned about the different R visualization packages and how to create visual charts using the plot function\n",
      "-Learned about and working with data science tools from IBM such as  Watson Studio.\n"
     ]
    }
   ],
   "source": [
    "List=[\"Learned differnt Languages such as SQL and Python \",\"Knowledge of different libraries\",\"Worked with different kernels and the basic Jupyter architecture\",\"Learned about the different R visualization packages and how to create visual charts using the plot function\",\"Learned about and working with data science tools from IBM such as  Watson Studio.\"]\n",
    "Unordered_list = \"\\n\".join([f\"-{item}\" for item in List])\n",
    "# Display the Unordered list\n",
    "print(Unordered_list)"
   ]
  },
  {
   "cell_type": "markdown",
   "id": "e4179446",
   "metadata": {},
   "source": [
    "##### Create a markdown cell to indicate the Author's name"
   ]
  },
  {
   "cell_type": "markdown",
   "id": "65313a42",
   "metadata": {},
   "source": [
    "## Author\n",
    "Tannu Singh"
   ]
  }
 ],
 "metadata": {
  "kernelspec": {
   "display_name": "Python 3 (ipykernel)",
   "language": "python",
   "name": "python3"
  },
  "language_info": {
   "codemirror_mode": {
    "name": "ipython",
    "version": 3
   },
   "file_extension": ".py",
   "mimetype": "text/x-python",
   "name": "python",
   "nbconvert_exporter": "python",
   "pygments_lexer": "ipython3",
   "version": "3.11.4"
  }
 },
 "nbformat": 4,
 "nbformat_minor": 5
}
